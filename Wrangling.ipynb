{
 "cells": [
  {
   "cell_type": "code",
   "execution_count": 1,
   "metadata": {
    "collapsed": true
   },
   "outputs": [],
   "source": [
    "import pandas as pd\n",
    "import numpy as np\n",
    "import matplotlib.pyplot as plt\n",
    "import pickle\n",
    "from scipy.stats import chisquare\n",
    "from scipy import stats"
   ]
  },
  {
   "cell_type": "markdown",
   "metadata": {},
   "source": [
    "## Get to know about the data"
   ]
  },
  {
   "cell_type": "code",
<<<<<<< HEAD
   "execution_count": 2,
=======
   "execution_count": 49,
>>>>>>> origin/master
   "metadata": {
    "collapsed": true
   },
   "outputs": [],
   "source": [
    "# Import the data into Pandas dataframe\n",
    "\n",
    "df = pd.read_csv(\"bank-additional-full.csv\", sep=';')"
   ]
  },
  {
   "cell_type": "code",
   "execution_count": 3,
   "metadata": {},
   "outputs": [
    {
     "data": {
      "text/html": [
       "<div>\n",
       "<style>\n",
       "    .dataframe thead tr:only-child th {\n",
       "        text-align: right;\n",
       "    }\n",
       "\n",
       "    .dataframe thead th {\n",
       "        text-align: left;\n",
       "    }\n",
       "\n",
       "    .dataframe tbody tr th {\n",
       "        vertical-align: top;\n",
       "    }\n",
       "</style>\n",
       "<table border=\"1\" class=\"dataframe\">\n",
       "  <thead>\n",
       "    <tr style=\"text-align: right;\">\n",
       "      <th></th>\n",
       "      <th>age</th>\n",
       "      <th>job</th>\n",
       "      <th>marital</th>\n",
       "      <th>education</th>\n",
       "      <th>default</th>\n",
       "      <th>housing</th>\n",
       "      <th>loan</th>\n",
       "      <th>contact</th>\n",
       "      <th>month</th>\n",
       "      <th>day_of_week</th>\n",
       "      <th>...</th>\n",
       "      <th>campaign</th>\n",
       "      <th>pdays</th>\n",
       "      <th>previous</th>\n",
       "      <th>poutcome</th>\n",
       "      <th>emp.var.rate</th>\n",
       "      <th>cons.price.idx</th>\n",
       "      <th>cons.conf.idx</th>\n",
       "      <th>euribor3m</th>\n",
       "      <th>nr.employed</th>\n",
       "      <th>y</th>\n",
       "    </tr>\n",
       "  </thead>\n",
       "  <tbody>\n",
       "    <tr>\n",
       "      <th>0</th>\n",
       "      <td>56</td>\n",
       "      <td>housemaid</td>\n",
       "      <td>married</td>\n",
       "      <td>basic.4y</td>\n",
       "      <td>no</td>\n",
       "      <td>no</td>\n",
       "      <td>no</td>\n",
       "      <td>telephone</td>\n",
       "      <td>may</td>\n",
       "      <td>mon</td>\n",
       "      <td>...</td>\n",
       "      <td>1</td>\n",
       "      <td>999</td>\n",
       "      <td>0</td>\n",
       "      <td>nonexistent</td>\n",
       "      <td>1.1</td>\n",
       "      <td>93.994</td>\n",
       "      <td>-36.4</td>\n",
       "      <td>4.857</td>\n",
       "      <td>5191.0</td>\n",
       "      <td>no</td>\n",
       "    </tr>\n",
       "    <tr>\n",
       "      <th>1</th>\n",
       "      <td>57</td>\n",
       "      <td>services</td>\n",
       "      <td>married</td>\n",
       "      <td>high.school</td>\n",
       "      <td>unknown</td>\n",
       "      <td>no</td>\n",
       "      <td>no</td>\n",
       "      <td>telephone</td>\n",
       "      <td>may</td>\n",
       "      <td>mon</td>\n",
       "      <td>...</td>\n",
       "      <td>1</td>\n",
       "      <td>999</td>\n",
       "      <td>0</td>\n",
       "      <td>nonexistent</td>\n",
       "      <td>1.1</td>\n",
       "      <td>93.994</td>\n",
       "      <td>-36.4</td>\n",
       "      <td>4.857</td>\n",
       "      <td>5191.0</td>\n",
       "      <td>no</td>\n",
       "    </tr>\n",
       "    <tr>\n",
       "      <th>2</th>\n",
       "      <td>37</td>\n",
       "      <td>services</td>\n",
       "      <td>married</td>\n",
       "      <td>high.school</td>\n",
       "      <td>no</td>\n",
       "      <td>yes</td>\n",
       "      <td>no</td>\n",
       "      <td>telephone</td>\n",
       "      <td>may</td>\n",
       "      <td>mon</td>\n",
       "      <td>...</td>\n",
       "      <td>1</td>\n",
       "      <td>999</td>\n",
       "      <td>0</td>\n",
       "      <td>nonexistent</td>\n",
       "      <td>1.1</td>\n",
       "      <td>93.994</td>\n",
       "      <td>-36.4</td>\n",
       "      <td>4.857</td>\n",
       "      <td>5191.0</td>\n",
       "      <td>no</td>\n",
       "    </tr>\n",
       "    <tr>\n",
       "      <th>3</th>\n",
       "      <td>40</td>\n",
       "      <td>admin.</td>\n",
       "      <td>married</td>\n",
       "      <td>basic.6y</td>\n",
       "      <td>no</td>\n",
       "      <td>no</td>\n",
       "      <td>no</td>\n",
       "      <td>telephone</td>\n",
       "      <td>may</td>\n",
       "      <td>mon</td>\n",
       "      <td>...</td>\n",
       "      <td>1</td>\n",
       "      <td>999</td>\n",
       "      <td>0</td>\n",
       "      <td>nonexistent</td>\n",
       "      <td>1.1</td>\n",
       "      <td>93.994</td>\n",
       "      <td>-36.4</td>\n",
       "      <td>4.857</td>\n",
       "      <td>5191.0</td>\n",
       "      <td>no</td>\n",
       "    </tr>\n",
       "    <tr>\n",
       "      <th>4</th>\n",
       "      <td>56</td>\n",
       "      <td>services</td>\n",
       "      <td>married</td>\n",
       "      <td>high.school</td>\n",
       "      <td>no</td>\n",
       "      <td>no</td>\n",
       "      <td>yes</td>\n",
       "      <td>telephone</td>\n",
       "      <td>may</td>\n",
       "      <td>mon</td>\n",
       "      <td>...</td>\n",
       "      <td>1</td>\n",
       "      <td>999</td>\n",
       "      <td>0</td>\n",
       "      <td>nonexistent</td>\n",
       "      <td>1.1</td>\n",
       "      <td>93.994</td>\n",
       "      <td>-36.4</td>\n",
       "      <td>4.857</td>\n",
       "      <td>5191.0</td>\n",
       "      <td>no</td>\n",
       "    </tr>\n",
       "  </tbody>\n",
       "</table>\n",
       "<p>5 rows × 21 columns</p>\n",
       "</div>"
      ],
      "text/plain": [
       "   age        job  marital    education  default housing loan    contact  \\\n",
       "0   56  housemaid  married     basic.4y       no      no   no  telephone   \n",
       "1   57   services  married  high.school  unknown      no   no  telephone   \n",
       "2   37   services  married  high.school       no     yes   no  telephone   \n",
       "3   40     admin.  married     basic.6y       no      no   no  telephone   \n",
       "4   56   services  married  high.school       no      no  yes  telephone   \n",
       "\n",
       "  month day_of_week ...  campaign  pdays  previous     poutcome emp.var.rate  \\\n",
       "0   may         mon ...         1    999         0  nonexistent          1.1   \n",
       "1   may         mon ...         1    999         0  nonexistent          1.1   \n",
       "2   may         mon ...         1    999         0  nonexistent          1.1   \n",
       "3   may         mon ...         1    999         0  nonexistent          1.1   \n",
       "4   may         mon ...         1    999         0  nonexistent          1.1   \n",
       "\n",
       "   cons.price.idx  cons.conf.idx  euribor3m  nr.employed   y  \n",
       "0          93.994          -36.4      4.857       5191.0  no  \n",
       "1          93.994          -36.4      4.857       5191.0  no  \n",
       "2          93.994          -36.4      4.857       5191.0  no  \n",
       "3          93.994          -36.4      4.857       5191.0  no  \n",
       "4          93.994          -36.4      4.857       5191.0  no  \n",
       "\n",
       "[5 rows x 21 columns]"
      ]
     },
     "execution_count": 3,
     "metadata": {},
     "output_type": "execute_result"
    }
   ],
   "source": [
    "# Check the first 5 rows\n",
    "\n",
    "df.head()"
   ]
  },
  {
   "cell_type": "code",
   "execution_count": 4,
   "metadata": {},
   "outputs": [
    {
     "data": {
      "text/plain": [
       "(41188, 21)"
      ]
     },
     "execution_count": 4,
     "metadata": {},
     "output_type": "execute_result"
    }
   ],
   "source": [
    "# Check the number of row and column\n",
    "\n",
    "df.shape"
   ]
  },
  {
   "cell_type": "code",
   "execution_count": 5,
   "metadata": {},
   "outputs": [
    {
     "data": {
      "text/plain": [
       "age                 int64\n",
       "job                object\n",
       "marital            object\n",
       "education          object\n",
       "default            object\n",
       "housing            object\n",
       "loan               object\n",
       "contact            object\n",
       "month              object\n",
       "day_of_week        object\n",
       "duration            int64\n",
       "campaign            int64\n",
       "pdays               int64\n",
       "previous            int64\n",
       "poutcome           object\n",
       "emp.var.rate      float64\n",
       "cons.price.idx    float64\n",
       "cons.conf.idx     float64\n",
       "euribor3m         float64\n",
       "nr.employed       float64\n",
       "y                  object\n",
       "dtype: object"
      ]
     },
     "execution_count": 5,
     "metadata": {},
     "output_type": "execute_result"
    }
   ],
   "source": [
    "# Check the name and data type of each column\n",
    "\n",
    "df.dtypes"
   ]
  },
  {
   "cell_type": "code",
   "execution_count": 6,
   "metadata": {},
   "outputs": [
    {
     "name": "stdout",
     "output_type": "stream",
     "text": [
      "Missing values per column:\n",
      "age               0\n",
      "job               0\n",
      "marital           0\n",
      "education         0\n",
      "default           0\n",
      "housing           0\n",
      "loan              0\n",
      "contact           0\n",
      "month             0\n",
      "day_of_week       0\n",
      "duration          0\n",
      "campaign          0\n",
      "pdays             0\n",
      "previous          0\n",
      "poutcome          0\n",
      "emp.var.rate      0\n",
      "cons.price.idx    0\n",
      "cons.conf.idx     0\n",
      "euribor3m         0\n",
      "nr.employed       0\n",
      "y                 0\n",
      "dtype: int64\n"
     ]
    }
   ],
   "source": [
    "# Check missing values\n",
    "\n",
    "def num_missing(x):\n",
    "    return sum(x.isnull())\n",
    "\n",
    "#Apply per column\n",
    "\n",
    "print (\"Missing values per column:\")\n",
    "print (df.apply(num_missing, axis=0))"
   ]
  },
  {
   "cell_type": "markdown",
   "metadata": {},
   "source": [
    "## Change variable names"
   ]
  },
  {
   "cell_type": "code",
<<<<<<< HEAD
   "execution_count": 7,
=======
   "execution_count": 51,
>>>>>>> origin/master
   "metadata": {
    "collapsed": true
   },
   "outputs": [],
   "source": [
    "# Make the variable names more descriptive\n",
    "\n",
    "df=df.rename(columns = {'housing':'housingLoan'})\n",
    "df=df.rename(columns = {'loan':'personalLoan'})\n",
    "df=df.rename(columns = {'contact':'contactMethod'})\n",
    "df=df.rename(columns = {'month':'contactMonth'})\n",
    "df=df.rename(columns = {'day_of_week':'contactDay'})\n",
    "df=df.rename(columns = {'duration':'contactDuration'})\n",
    "df=df.rename(columns = {'campaign':'numberOfContact'})\n",
    "df=df.rename(columns = {'pdays':'lastContact_daysSince'})\n",
    "df=df.rename(columns = {'previous':'pastCam_numberOfContact'})\n",
    "df=df.rename(columns = {'poutcome':'pastCam_result'})\n",
    "df=df.rename(columns = {'y':'subscribe'})\n",
    "df=df.rename(columns = {'emp.var.rate':'idx_employment'})\n",
    "df=df.rename(columns = {'cons.price.idx':'idx_price'})\n",
    "df=df.rename(columns = {'cons.conf.idx':'idx_confidence'})\n",
    "df=df.rename(columns = {'euribor3m':'idx_euribor'})\n",
    "df=df.rename(columns = {'nr.employed':'idx_employeesNum'})"
   ]
  },
  {
   "cell_type": "markdown",
   "metadata": {},
   "source": [
    "## Look into each variable and wrangle the data"
   ]
  },
  {
   "cell_type": "markdown",
   "metadata": {},
   "source": [
    "### 1. subscribe (response variable)"
   ]
  },
  {
   "cell_type": "code",
   "execution_count": 8,
   "metadata": {},
   "outputs": [
    {
     "data": {
      "text/plain": [
       "no     36548\n",
       "yes     4640\n",
       "Name: subscribe, dtype: int64"
      ]
     },
     "execution_count": 8,
     "metadata": {},
     "output_type": "execute_result"
    }
   ],
   "source": [
    "# Check the distribution of values \n",
    "\n",
    "df.subscribe.value_counts()"
   ]
  },
  {
   "cell_type": "markdown",
   "metadata": {},
   "source": [
    "* The variable subscribe doesn't have any missing nor illogical values"
   ]
  },
  {
   "cell_type": "code",
<<<<<<< HEAD
   "execution_count": 9,
=======
   "execution_count": 52,
>>>>>>> origin/master
   "metadata": {
    "collapsed": true
   },
   "outputs": [],
   "source": [
    "# Transform the level names for easier processing\n",
    "\n",
    "df['subscribe'] = df['subscribe'].map({'yes': 1, 'no': 0})"
   ]
  },
  {
   "cell_type": "markdown",
   "metadata": {},
   "source": [
    "### 2. age"
   ]
  },
  {
   "cell_type": "code",
   "execution_count": 10,
   "metadata": {},
   "outputs": [
    {
     "data": {
      "text/plain": [
       "count    41188.00000\n",
       "mean        40.02406\n",
       "std         10.42125\n",
       "min         17.00000\n",
       "25%         32.00000\n",
       "50%         38.00000\n",
       "75%         47.00000\n",
       "max         98.00000\n",
       "Name: age, dtype: float64"
      ]
     },
     "execution_count": 10,
     "metadata": {},
     "output_type": "execute_result"
    }
   ],
   "source": [
    "# Check the distribution of values \n",
    "\n",
    "df.age.describe()"
   ]
  },
  {
   "cell_type": "code",
   "execution_count": 11,
   "metadata": {},
   "outputs": [
    {
     "data": {
      "image/png": "iVBORw0KGgoAAAANSUhEUgAAANMAAAFpCAYAAAAGIR1+AAAABHNCSVQICAgIfAhkiAAAAAlwSFlz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\nQmCC\n",
      "text/plain": [
       "<matplotlib.figure.Figure at 0x117edecc0>"
      ]
     },
     "metadata": {},
     "output_type": "display_data"
    }
   ],
   "source": [
    "# Plot the distribution of values \n",
    "\n",
    "fig = plt.figure(1, figsize=(3, 6))\n",
    "df.boxplot(column=\"age\")\n",
    "plt.show()"
   ]
  },
  {
   "cell_type": "markdown",
   "metadata": {},
   "source": [
    "* The variable age doesn't have any missing nor illogical values ranging from 17 to 98"
   ]
  },
  {
   "cell_type": "markdown",
   "metadata": {},
   "source": [
    "### 3. job"
   ]
  },
  {
   "cell_type": "code",
   "execution_count": 12,
   "metadata": {},
   "outputs": [
    {
     "data": {
      "text/plain": [
       "admin.           10422\n",
       "blue-collar       9254\n",
       "technician        6743\n",
       "services          3969\n",
       "management        2924\n",
       "retired           1720\n",
       "entrepreneur      1456\n",
       "self-employed     1421\n",
       "housemaid         1060\n",
       "unemployed        1014\n",
       "student            875\n",
       "unknown            330\n",
       "Name: job, dtype: int64"
      ]
     },
     "execution_count": 12,
     "metadata": {},
     "output_type": "execute_result"
    }
   ],
   "source": [
    "# Check the distribution of values \n",
    "\n",
    "df.job.value_counts()"
   ]
  },
  {
   "cell_type": "markdown",
   "metadata": {},
   "source": [
    "* There are 'unknown' levels in the variable job. \n",
    "* To decide whether to leave unknown as is or replace with other value, we ran chi-square test of independence to see whether the two variables, job and subscribe (response variable), are independent for the level 'unknown' and the rest of levels."
   ]
  },
  {
   "cell_type": "code",
   "execution_count": 13,
   "metadata": {},
   "outputs": [
    {
     "name": "stderr",
     "output_type": "stream",
     "text": [
      "/Users/ashokvardhan/anaconda/lib/python3.6/site-packages/pandas/core/indexing.py:517: SettingWithCopyWarning: \n",
      "A value is trying to be set on a copy of a slice from a DataFrame.\n",
      "Try using .loc[row_indexer,col_indexer] = value instead\n",
      "\n",
      "See the caveats in the documentation: http://pandas.pydata.org/pandas-docs/stable/indexing.html#indexing-view-versus-copy\n",
      "  self.obj[item] = s\n"
     ]
    },
    {
     "data": {
      "text/html": [
       "<div>\n",
       "<style>\n",
       "    .dataframe thead tr:only-child th {\n",
       "        text-align: right;\n",
       "    }\n",
       "\n",
       "    .dataframe thead th {\n",
       "        text-align: left;\n",
       "    }\n",
       "\n",
       "    .dataframe tbody tr th {\n",
       "        vertical-align: top;\n",
       "    }\n",
       "</style>\n",
       "<table border=\"1\" class=\"dataframe\">\n",
       "  <thead>\n",
       "    <tr style=\"text-align: right;\">\n",
       "      <th>job</th>\n",
       "      <th>known</th>\n",
       "      <th>unknown</th>\n",
       "    </tr>\n",
       "    <tr>\n",
       "      <th>subscribe</th>\n",
       "      <th></th>\n",
       "      <th></th>\n",
       "    </tr>\n",
       "  </thead>\n",
       "  <tbody>\n",
       "    <tr>\n",
       "      <th>0</th>\n",
       "      <td>36255</td>\n",
       "      <td>293</td>\n",
       "    </tr>\n",
       "    <tr>\n",
       "      <th>1</th>\n",
       "      <td>4603</td>\n",
       "      <td>37</td>\n",
       "    </tr>\n",
       "  </tbody>\n",
       "</table>\n",
       "</div>"
      ],
      "text/plain": [
       "job        known  unknown\n",
       "subscribe                \n",
       "0          36255      293\n",
       "1           4603       37"
      ]
     },
     "execution_count": 13,
     "metadata": {},
     "output_type": "execute_result"
    }
   ],
   "source": [
    "# Create a dataframe with two variables \n",
    "\n",
    "df_job = df[['subscribe', 'job']]\n",
    "\n",
    "# Change the level name\n",
    "\n",
    "df_job.loc[df_job.job != 'unknown', 'job'] = 'known'\n",
    "\n",
    "# Create a crosstab \n",
    "\n",
    "observed_job = pd.crosstab(df_job.subscribe, df_job.job, margins=False)\n",
    "observed_job"
   ]
  },
  {
   "cell_type": "code",
   "execution_count": 14,
   "metadata": {},
   "outputs": [
    {
     "data": {
      "text/plain": [
       "(0.0032104107038062905,\n",
       " 0.95481565081367703,\n",
       " 1,\n",
       " array([[ 36255.17587647,    292.82412353],\n",
       "        [  4602.82412353,     37.17587647]]))"
      ]
     },
     "execution_count": 14,
     "metadata": {},
     "output_type": "execute_result"
    }
   ],
   "source": [
    "# Run chi-square test \n",
    "\n",
    "stats.chi2_contingency(observed_job) \n",
    "\n",
    "# The output below shows the chi-square statistic, the p-value and the degrees of freedom \n",
    "# followed by the expected counts"
   ]
  },
  {
   "cell_type": "markdown",
   "metadata": {},
   "source": [
    "- Given the high p-value, the test result does not detect a significant relationship between the variables.\n",
    "- It means that there is no specific pattern in missingness (unknown)\n",
    "- Therefore, we imputed the unknown with the mode."
   ]
  },
  {
   "cell_type": "code",
<<<<<<< HEAD
   "execution_count": 15,
=======
   "execution_count": 53,
>>>>>>> origin/master
   "metadata": {
    "collapsed": true
   },
   "outputs": [],
   "source": [
    "# Replace unknown with mode\n",
    "\n",
    "df.loc[df.job == 'unknown', 'job'] = 'admin.'"
   ]
  },
  {
   "cell_type": "markdown",
   "metadata": {},
   "source": [
    "### 4. marital"
   ]
  },
  {
   "cell_type": "code",
   "execution_count": 16,
   "metadata": {},
   "outputs": [
    {
     "data": {
      "text/plain": [
       "married     24928\n",
       "single      11568\n",
       "divorced     4612\n",
       "unknown        80\n",
       "Name: marital, dtype: int64"
      ]
     },
     "execution_count": 16,
     "metadata": {},
     "output_type": "execute_result"
    }
   ],
   "source": [
    "# Check the distribution of values \n",
    "\n",
    "df.marital.value_counts()"
   ]
  },
  {
   "cell_type": "markdown",
   "metadata": {},
   "source": [
    "- There are 'unknown' levels in the variable job.\n",
    "- To decide whether to leave unknown as is or replace with other value, we ran chi-square test of independence"
   ]
  },
  {
   "cell_type": "code",
   "execution_count": 17,
   "metadata": {},
   "outputs": [
    {
     "name": "stderr",
     "output_type": "stream",
     "text": [
      "/Users/ashokvardhan/anaconda/lib/python3.6/site-packages/pandas/core/indexing.py:517: SettingWithCopyWarning: \n",
      "A value is trying to be set on a copy of a slice from a DataFrame.\n",
      "Try using .loc[row_indexer,col_indexer] = value instead\n",
      "\n",
      "See the caveats in the documentation: http://pandas.pydata.org/pandas-docs/stable/indexing.html#indexing-view-versus-copy\n",
      "  self.obj[item] = s\n"
     ]
    },
    {
     "data": {
      "text/html": [
       "<div>\n",
       "<style>\n",
       "    .dataframe thead tr:only-child th {\n",
       "        text-align: right;\n",
       "    }\n",
       "\n",
       "    .dataframe thead th {\n",
       "        text-align: left;\n",
       "    }\n",
       "\n",
       "    .dataframe tbody tr th {\n",
       "        vertical-align: top;\n",
       "    }\n",
       "</style>\n",
       "<table border=\"1\" class=\"dataframe\">\n",
       "  <thead>\n",
       "    <tr style=\"text-align: right;\">\n",
       "      <th>marital</th>\n",
       "      <th>known</th>\n",
       "      <th>unknown</th>\n",
       "    </tr>\n",
       "    <tr>\n",
       "      <th>subscribe</th>\n",
       "      <th></th>\n",
       "      <th></th>\n",
       "    </tr>\n",
       "  </thead>\n",
       "  <tbody>\n",
       "    <tr>\n",
       "      <th>0</th>\n",
       "      <td>36480</td>\n",
       "      <td>68</td>\n",
       "    </tr>\n",
       "    <tr>\n",
       "      <th>1</th>\n",
       "      <td>4628</td>\n",
       "      <td>12</td>\n",
       "    </tr>\n",
       "  </tbody>\n",
       "</table>\n",
       "</div>"
      ],
      "text/plain": [
       "marital    known  unknown\n",
       "subscribe                \n",
       "0          36480       68\n",
       "1           4628       12"
      ]
     },
     "execution_count": 17,
     "metadata": {},
     "output_type": "execute_result"
    }
   ],
   "source": [
    "# Create a dataframe with two variables \n",
    "\n",
    "df_marital = df[['subscribe', 'marital']]\n",
    "\n",
    "# Change the level name\n",
    "\n",
    "df_marital.loc[df_marital.marital != 'unknown', 'marital'] = 'known'\n",
    "\n",
    "# Create a crosstab \n",
    "\n",
    "observed_marital = pd.crosstab(df_marital.subscribe, df_marital.marital, margins=False)\n",
    "observed_marital"
   ]
  },
  {
   "cell_type": "code",
   "execution_count": 18,
   "metadata": {},
   "outputs": [
    {
     "data": {
      "text/plain": [
       "(0.77535114047986342,\n",
       " 0.37856670795812708,\n",
       " 1,\n",
       " array([[  3.64770123e+04,   7.09876663e+01],\n",
       "        [  4.63098767e+03,   9.01233369e+00]]))"
      ]
     },
     "execution_count": 18,
     "metadata": {},
     "output_type": "execute_result"
    }
   ],
   "source": [
    "# Run chi-square test \n",
    "\n",
    "stats.chi2_contingency(observed_marital) \n",
    "\n",
    "# The output below shows the chi-square statistic, the p-value and the degrees of freedom \n",
    "# followed by the expected counts"
   ]
  },
  {
   "cell_type": "markdown",
   "metadata": {},
   "source": [
    "- Given the high p-value, the test result does not detect a significant relationship between the variables.\n",
    "- It means that there is no specific pattern in missingness (unknown)\n",
    "- Therefore, we imputed the unknown with the mode."
   ]
  },
  {
   "cell_type": "code",
<<<<<<< HEAD
   "execution_count": 19,
=======
   "execution_count": 54,
>>>>>>> origin/master
   "metadata": {
    "collapsed": true
   },
   "outputs": [],
   "source": [
    "# Replace unknown with mode\n",
    "\n",
    "df.loc[df.marital == 'unknown', 'marital'] = 'married'"
   ]
  },
  {
   "cell_type": "markdown",
   "metadata": {},
   "source": [
    "### 5. education"
   ]
  },
  {
   "cell_type": "code",
   "execution_count": 20,
   "metadata": {},
   "outputs": [
    {
     "data": {
      "text/plain": [
       "university.degree      12168\n",
       "high.school             9515\n",
       "basic.9y                6045\n",
       "professional.course     5243\n",
       "basic.4y                4176\n",
       "basic.6y                2292\n",
       "unknown                 1731\n",
       "illiterate                18\n",
       "Name: education, dtype: int64"
      ]
     },
     "execution_count": 20,
     "metadata": {},
     "output_type": "execute_result"
    }
   ],
   "source": [
    "# Check the distribution of values \n",
    "\n",
    "df.education.value_counts()"
   ]
  },
  {
   "cell_type": "markdown",
   "metadata": {},
   "source": [
    "- There are 'unknown' levels in the variable job.\n",
    "- To decide whether to leave unknown as is or replace with other value, we ran chi-square test of independence"
   ]
  },
  {
   "cell_type": "code",
   "execution_count": 21,
   "metadata": {},
   "outputs": [
    {
     "name": "stderr",
     "output_type": "stream",
     "text": [
      "/Users/ashokvardhan/anaconda/lib/python3.6/site-packages/pandas/core/indexing.py:517: SettingWithCopyWarning: \n",
      "A value is trying to be set on a copy of a slice from a DataFrame.\n",
      "Try using .loc[row_indexer,col_indexer] = value instead\n",
      "\n",
      "See the caveats in the documentation: http://pandas.pydata.org/pandas-docs/stable/indexing.html#indexing-view-versus-copy\n",
      "  self.obj[item] = s\n"
     ]
    },
    {
     "data": {
      "text/html": [
       "<div>\n",
       "<style>\n",
       "    .dataframe thead tr:only-child th {\n",
       "        text-align: right;\n",
       "    }\n",
       "\n",
       "    .dataframe thead th {\n",
       "        text-align: left;\n",
       "    }\n",
       "\n",
       "    .dataframe tbody tr th {\n",
       "        vertical-align: top;\n",
       "    }\n",
       "</style>\n",
       "<table border=\"1\" class=\"dataframe\">\n",
       "  <thead>\n",
       "    <tr style=\"text-align: right;\">\n",
       "      <th>education</th>\n",
       "      <th>known</th>\n",
       "      <th>unknown</th>\n",
       "    </tr>\n",
       "    <tr>\n",
       "      <th>subscribe</th>\n",
       "      <th></th>\n",
       "      <th></th>\n",
       "    </tr>\n",
       "  </thead>\n",
       "  <tbody>\n",
       "    <tr>\n",
       "      <th>0</th>\n",
       "      <td>35068</td>\n",
       "      <td>1480</td>\n",
       "    </tr>\n",
       "    <tr>\n",
       "      <th>1</th>\n",
       "      <td>4389</td>\n",
       "      <td>251</td>\n",
       "    </tr>\n",
       "  </tbody>\n",
       "</table>\n",
       "</div>"
      ],
      "text/plain": [
       "education  known  unknown\n",
       "subscribe                \n",
       "0          35068     1480\n",
       "1           4389      251"
      ]
     },
     "execution_count": 21,
     "metadata": {},
     "output_type": "execute_result"
    }
   ],
   "source": [
    "# Create a dataframe with two variables \n",
    "\n",
    "df_education = df[['subscribe', 'education']]\n",
    "\n",
    "# Change the level name\n",
    "\n",
    "df_education.loc[df_education.education != 'unknown', 'education'] = 'known'\n",
    "\n",
    "# Create a crosstab \n",
    "\n",
    "observed_education = pd.crosstab(df_education.subscribe, df_education.education, margins=False)\n",
    "observed_education"
   ]
  },
  {
   "cell_type": "code",
   "execution_count": 22,
   "metadata": {},
   "outputs": [
    {
     "data": {
      "text/plain": [
       "(18.579197631494843,\n",
       " 1.6298947683080677e-05,\n",
       " 1,\n",
       " array([[ 35012.0043702,   1535.9956298],\n",
       "        [  4444.9956298,    195.0043702]]))"
      ]
     },
     "execution_count": 22,
     "metadata": {},
     "output_type": "execute_result"
    }
   ],
   "source": [
    "# Run chi-square test \n",
    "\n",
    "stats.chi2_contingency(observed_education) \n",
    "\n",
    "# The output below shows the chi-square statistic, the p-value and the degrees of freedom \n",
    "# followed by the expected counts"
   ]
  },
  {
   "cell_type": "markdown",
   "metadata": {},
   "source": [
    "- Given the low p-value (<0.01), the test result demonstrates a significant relationship between the variables.\n",
    "- It means that there is specific pattern in missingness (unknown)\n",
    "- Therefore, we decided to maintain the unknown level"
   ]
  },
  {
   "cell_type": "markdown",
   "metadata": {},
   "source": [
    "### 6. default"
   ]
  },
  {
   "cell_type": "code",
   "execution_count": 23,
   "metadata": {},
   "outputs": [
    {
     "data": {
      "text/plain": [
       "no         32588\n",
       "unknown     8597\n",
       "yes            3\n",
       "Name: default, dtype: int64"
      ]
     },
     "execution_count": 23,
     "metadata": {},
     "output_type": "execute_result"
    }
   ],
   "source": [
    "# Check the distribution of values \n",
    "\n",
    "df.default.value_counts()"
   ]
  },
  {
   "cell_type": "markdown",
   "metadata": {},
   "source": [
    "- There are 'unknown' levels in the variable job.\n",
    "- To decide whether to leave unknown as is or replace with other value, we ran chi-square test of independence"
   ]
  },
  {
   "cell_type": "code",
   "execution_count": 24,
   "metadata": {},
   "outputs": [
    {
     "name": "stderr",
     "output_type": "stream",
     "text": [
      "/Users/ashokvardhan/anaconda/lib/python3.6/site-packages/pandas/core/indexing.py:517: SettingWithCopyWarning: \n",
      "A value is trying to be set on a copy of a slice from a DataFrame.\n",
      "Try using .loc[row_indexer,col_indexer] = value instead\n",
      "\n",
      "See the caveats in the documentation: http://pandas.pydata.org/pandas-docs/stable/indexing.html#indexing-view-versus-copy\n",
      "  self.obj[item] = s\n"
     ]
    },
    {
     "data": {
      "text/html": [
       "<div>\n",
       "<style>\n",
       "    .dataframe thead tr:only-child th {\n",
       "        text-align: right;\n",
       "    }\n",
       "\n",
       "    .dataframe thead th {\n",
       "        text-align: left;\n",
       "    }\n",
       "\n",
       "    .dataframe tbody tr th {\n",
       "        vertical-align: top;\n",
       "    }\n",
       "</style>\n",
       "<table border=\"1\" class=\"dataframe\">\n",
       "  <thead>\n",
       "    <tr style=\"text-align: right;\">\n",
       "      <th>default</th>\n",
       "      <th>known</th>\n",
       "      <th>unknown</th>\n",
       "    </tr>\n",
       "    <tr>\n",
       "      <th>subscribe</th>\n",
       "      <th></th>\n",
       "      <th></th>\n",
       "    </tr>\n",
       "  </thead>\n",
       "  <tbody>\n",
       "    <tr>\n",
       "      <th>0</th>\n",
       "      <td>28394</td>\n",
       "      <td>8154</td>\n",
       "    </tr>\n",
       "    <tr>\n",
       "      <th>1</th>\n",
       "      <td>4197</td>\n",
       "      <td>443</td>\n",
       "    </tr>\n",
       "  </tbody>\n",
       "</table>\n",
       "</div>"
      ],
      "text/plain": [
       "default    known  unknown\n",
       "subscribe                \n",
       "0          28394     8154\n",
       "1           4197      443"
      ]
     },
     "execution_count": 24,
     "metadata": {},
     "output_type": "execute_result"
    }
   ],
   "source": [
    "# Create a dataframe with two variables \n",
    "\n",
    "df_default = df[['subscribe', 'default']]\n",
    "\n",
    "# Change the level name\n",
    "\n",
    "df_default.loc[df_default.default != 'unknown', 'default'] = 'known'\n",
    "\n",
    "# Create a crosstab \n",
    "\n",
    "observed_default = pd.crosstab(df_default.subscribe, df_default.default, margins=False)\n",
    "observed_default"
   ]
  },
  {
   "cell_type": "code",
   "execution_count": 25,
   "metadata": {},
   "outputs": [
    {
     "data": {
      "text/plain": [
       "(405.30737395058429,\n",
       " 3.8512776525099627e-90,\n",
       " 1,\n",
       " array([[ 28919.4879091,   7628.5120909],\n",
       "        [  3671.5120909,    968.4879091]]))"
      ]
     },
     "execution_count": 25,
     "metadata": {},
     "output_type": "execute_result"
    }
   ],
   "source": [
    "# Run chi-square test \n",
    "\n",
    "stats.chi2_contingency(observed_default) \n",
    "\n",
    "# The output below shows the chi-square statistic, the p-value and the degrees of freedom \n",
    "# followed by the expected counts"
   ]
  },
  {
   "cell_type": "markdown",
   "metadata": {},
   "source": [
    "- Given the low p-value (<0.01), the test result demonstrates a significant relationship between the variables.\n",
    "- It means that there is specific pattern in missingness (unknown)\n",
    "- Therefore, we decided to maintain the unknown level"
   ]
  },
  {
   "cell_type": "markdown",
   "metadata": {},
   "source": [
    "### 7. housingLoan"
   ]
  },
  {
   "cell_type": "code",
   "execution_count": 26,
   "metadata": {},
   "outputs": [
    {
     "data": {
      "text/plain": [
       "yes        21576\n",
       "no         18622\n",
       "unknown      990\n",
       "Name: housingLoan, dtype: int64"
      ]
     },
     "execution_count": 26,
     "metadata": {},
     "output_type": "execute_result"
    }
   ],
   "source": [
    "# Check the distribution of values \n",
    "\n",
    "df.housingLoan.value_counts()"
   ]
  },
  {
   "cell_type": "markdown",
   "metadata": {},
   "source": [
    "- There are 'unknown' levels in the variable job.\n",
    "- To decide whether to leave unknown as is or replace with other value, we ran chi-square test of independence"
   ]
  },
  {
   "cell_type": "code",
   "execution_count": 27,
   "metadata": {},
   "outputs": [
    {
     "name": "stderr",
     "output_type": "stream",
     "text": [
      "/Users/ashokvardhan/anaconda/lib/python3.6/site-packages/pandas/core/indexing.py:517: SettingWithCopyWarning: \n",
      "A value is trying to be set on a copy of a slice from a DataFrame.\n",
      "Try using .loc[row_indexer,col_indexer] = value instead\n",
      "\n",
      "See the caveats in the documentation: http://pandas.pydata.org/pandas-docs/stable/indexing.html#indexing-view-versus-copy\n",
      "  self.obj[item] = s\n"
     ]
    },
    {
     "data": {
      "text/html": [
       "<div>\n",
       "<style>\n",
       "    .dataframe thead tr:only-child th {\n",
       "        text-align: right;\n",
       "    }\n",
       "\n",
       "    .dataframe thead th {\n",
       "        text-align: left;\n",
       "    }\n",
       "\n",
       "    .dataframe tbody tr th {\n",
       "        vertical-align: top;\n",
       "    }\n",
       "</style>\n",
       "<table border=\"1\" class=\"dataframe\">\n",
       "  <thead>\n",
       "    <tr style=\"text-align: right;\">\n",
       "      <th>housingLoan</th>\n",
       "      <th>known</th>\n",
       "      <th>unknown</th>\n",
       "    </tr>\n",
       "    <tr>\n",
       "      <th>subscribe</th>\n",
       "      <th></th>\n",
       "      <th></th>\n",
       "    </tr>\n",
       "  </thead>\n",
       "  <tbody>\n",
       "    <tr>\n",
       "      <th>0</th>\n",
       "      <td>35665</td>\n",
       "      <td>883</td>\n",
       "    </tr>\n",
       "    <tr>\n",
       "      <th>1</th>\n",
       "      <td>4533</td>\n",
       "      <td>107</td>\n",
       "    </tr>\n",
       "  </tbody>\n",
       "</table>\n",
       "</div>"
      ],
      "text/plain": [
       "housingLoan  known  unknown\n",
       "subscribe                  \n",
       "0            35665      883\n",
       "1             4533      107"
      ]
     },
     "execution_count": 27,
     "metadata": {},
     "output_type": "execute_result"
    }
   ],
   "source": [
    "# Create a dataframe with two variables \n",
    "\n",
    "df_housingLoan = df[['subscribe', 'housingLoan']]\n",
    "\n",
    "# Change the level name\n",
    "\n",
    "df_housingLoan.loc[df_housingLoan.housingLoan != 'unknown', 'housingLoan'] = 'known'\n",
    "\n",
    "# Create a crosstab \n",
    "\n",
    "observed_housingLoan = pd.crosstab(df_housingLoan.subscribe, df_housingLoan.housingLoan, margins=False)\n",
    "observed_housingLoan"
   ]
  },
  {
   "cell_type": "code",
   "execution_count": 28,
   "metadata": {},
   "outputs": [
    {
     "data": {
      "text/plain": [
       "(0.16795381809777024,\n",
       " 0.68193675355130423,\n",
       " 1,\n",
       " array([[ 35669.52762941,    878.47237059],\n",
       "        [  4528.47237059,    111.52762941]]))"
      ]
     },
     "execution_count": 28,
     "metadata": {},
     "output_type": "execute_result"
    }
   ],
   "source": [
    "# Run chi-square test \n",
    "\n",
    "stats.chi2_contingency(observed_housingLoan) \n",
    "\n",
    "# The output below shows the chi-square statistic, the p-value and the degrees of freedom \n",
    "# followed by the expected counts"
   ]
  },
  {
   "cell_type": "markdown",
   "metadata": {},
   "source": [
    "- Given the high p-value, the test result does not detect a significant relationship between the variables.\n",
    "- It means that there is no specific pattern in missingness (unknown)\n",
    "- Therefore, we imputed the unknown with the mode."
   ]
  },
  {
   "cell_type": "code",
<<<<<<< HEAD
   "execution_count": 29,
=======
   "execution_count": 55,
>>>>>>> origin/master
   "metadata": {
    "collapsed": true
   },
   "outputs": [],
   "source": [
    "# Replace unknown with mode\n",
    "\n",
    "df.loc[df.housingLoan == 'unknown', 'housingLoan'] = 'yes'"
   ]
  },
  {
   "cell_type": "markdown",
   "metadata": {},
   "source": [
    "### 8. personalLoan"
   ]
  },
  {
   "cell_type": "code",
   "execution_count": 30,
   "metadata": {},
   "outputs": [
    {
     "data": {
      "text/plain": [
       "no         33950\n",
       "yes         6248\n",
       "unknown      990\n",
       "Name: personalLoan, dtype: int64"
      ]
     },
     "execution_count": 30,
     "metadata": {},
     "output_type": "execute_result"
    }
   ],
   "source": [
    "# Check the distribution of values \n",
    "\n",
    "df.personalLoan.value_counts()"
   ]
  },
  {
   "cell_type": "markdown",
   "metadata": {},
   "source": [
    "- There are 'unknown' levels in the variable job.\n",
    "- To decide whether to leave unknown as is or replace with other value, we ran chi-square test of independence"
   ]
  },
  {
   "cell_type": "code",
   "execution_count": 31,
   "metadata": {},
   "outputs": [
    {
     "name": "stderr",
     "output_type": "stream",
     "text": [
      "/Users/ashokvardhan/anaconda/lib/python3.6/site-packages/pandas/core/indexing.py:517: SettingWithCopyWarning: \n",
      "A value is trying to be set on a copy of a slice from a DataFrame.\n",
      "Try using .loc[row_indexer,col_indexer] = value instead\n",
      "\n",
      "See the caveats in the documentation: http://pandas.pydata.org/pandas-docs/stable/indexing.html#indexing-view-versus-copy\n",
      "  self.obj[item] = s\n"
     ]
    },
    {
     "data": {
      "text/html": [
       "<div>\n",
       "<style>\n",
       "    .dataframe thead tr:only-child th {\n",
       "        text-align: right;\n",
       "    }\n",
       "\n",
       "    .dataframe thead th {\n",
       "        text-align: left;\n",
       "    }\n",
       "\n",
       "    .dataframe tbody tr th {\n",
       "        vertical-align: top;\n",
       "    }\n",
       "</style>\n",
       "<table border=\"1\" class=\"dataframe\">\n",
       "  <thead>\n",
       "    <tr style=\"text-align: right;\">\n",
       "      <th>personalLoan</th>\n",
       "      <th>known</th>\n",
       "      <th>unknown</th>\n",
       "    </tr>\n",
       "    <tr>\n",
       "      <th>subscribe</th>\n",
       "      <th></th>\n",
       "      <th></th>\n",
       "    </tr>\n",
       "  </thead>\n",
       "  <tbody>\n",
       "    <tr>\n",
       "      <th>0</th>\n",
       "      <td>35665</td>\n",
       "      <td>883</td>\n",
       "    </tr>\n",
       "    <tr>\n",
       "      <th>1</th>\n",
       "      <td>4533</td>\n",
       "      <td>107</td>\n",
       "    </tr>\n",
       "  </tbody>\n",
       "</table>\n",
       "</div>"
      ],
      "text/plain": [
       "personalLoan  known  unknown\n",
       "subscribe                   \n",
       "0             35665      883\n",
       "1              4533      107"
      ]
     },
     "execution_count": 31,
     "metadata": {},
     "output_type": "execute_result"
    }
   ],
   "source": [
    "# Create a dataframe with two variables \n",
    "\n",
    "df_loan = df[['subscribe', 'personalLoan']]\n",
    "\n",
    "# Change the level name\n",
    "\n",
    "df_loan.loc[df_loan.personalLoan != 'unknown', 'personalLoan'] = 'known'\n",
    "\n",
    "# Create a crosstab \n",
    "\n",
    "observed_loan = pd.crosstab(df_loan.subscribe, df_loan.personalLoan, margins=False)\n",
    "observed_loan"
   ]
  },
  {
   "cell_type": "code",
   "execution_count": 32,
   "metadata": {},
   "outputs": [
    {
     "data": {
      "text/plain": [
       "(0.16795381809777024,\n",
       " 0.68193675355130423,\n",
       " 1,\n",
       " array([[ 35669.52762941,    878.47237059],\n",
       "        [  4528.47237059,    111.52762941]]))"
      ]
     },
     "execution_count": 32,
     "metadata": {},
     "output_type": "execute_result"
    }
   ],
   "source": [
    "# Run chi-square test \n",
    "\n",
    "stats.chi2_contingency(observed_loan) \n",
    "\n",
    "# The output below shows the chi-square statistic, the p-value and the degrees of freedom \n",
    "# followed by the expected counts"
   ]
  },
  {
   "cell_type": "markdown",
   "metadata": {},
   "source": [
    "- Given the high p-value, the test result does not detect a significant relationship between the variables.\n",
    "- It means that there is no specific pattern in missingness (unknown)\n",
    "- Therefore, we imputed the unknown with the mode."
   ]
  },
  {
   "cell_type": "code",
<<<<<<< HEAD
   "execution_count": 33,
=======
   "execution_count": 56,
>>>>>>> origin/master
   "metadata": {
    "collapsed": true
   },
   "outputs": [],
   "source": [
    "# Replace unknown with mode\n",
    "\n",
    "df.loc[df.personalLoan == 'unknown', 'personalLoan'] = 'no'"
   ]
  },
  {
   "cell_type": "markdown",
   "metadata": {},
   "source": [
    "### 9. contactMethod"
   ]
  },
  {
   "cell_type": "code",
   "execution_count": 34,
   "metadata": {},
   "outputs": [
    {
     "data": {
      "text/plain": [
       "cellular     26144\n",
       "telephone    15044\n",
       "Name: contactMethod, dtype: int64"
      ]
     },
     "execution_count": 34,
     "metadata": {},
     "output_type": "execute_result"
    }
   ],
   "source": [
    "# Check the distribution of values \n",
    "\n",
    "df.contactMethod.value_counts()"
   ]
  },
  {
   "cell_type": "markdown",
   "metadata": {},
   "source": [
    "- The variable contactMethod doesn't have any missing nor illogical level."
   ]
  },
  {
   "cell_type": "markdown",
   "metadata": {},
   "source": [
    "### 10. contactMonth"
   ]
  },
  {
   "cell_type": "code",
<<<<<<< HEAD
   "execution_count": 35,
=======
   "execution_count": 57,
>>>>>>> origin/master
   "metadata": {},
   "outputs": [
    {
     "data": {
      "text/plain": [
       "may    13769\n",
       "jul     7174\n",
       "aug     6178\n",
       "jun     5318\n",
       "nov     4101\n",
       "apr     2632\n",
       "oct      718\n",
       "sep      570\n",
       "mar      546\n",
       "dec      182\n",
       "Name: contactMonth, dtype: int64"
      ]
     },
<<<<<<< HEAD
     "execution_count": 35,
=======
     "execution_count": 57,
>>>>>>> origin/master
     "metadata": {},
     "output_type": "execute_result"
    }
   ],
   "source": [
    "# Check the distribution of values \n",
    "\n",
    "df.contactMonth.value_counts()"
   ]
  },
  {
   "cell_type": "markdown",
   "metadata": {},
   "source": [
    "- The variable contactMonth doesn't have any missing nor illogical level."
   ]
  },
  {
   "cell_type": "markdown",
   "metadata": {},
   "source": [
    "### 11. contactDay"
   ]
  },
  {
   "cell_type": "code",
<<<<<<< HEAD
   "execution_count": 36,
=======
   "execution_count": 58,
>>>>>>> origin/master
   "metadata": {},
   "outputs": [
    {
     "data": {
      "text/plain": [
       "thu    8623\n",
       "mon    8514\n",
       "wed    8134\n",
       "tue    8090\n",
       "fri    7827\n",
       "Name: contactDay, dtype: int64"
      ]
     },
<<<<<<< HEAD
     "execution_count": 36,
=======
     "execution_count": 58,
>>>>>>> origin/master
     "metadata": {},
     "output_type": "execute_result"
    }
   ],
   "source": [
    "# Check the distribution of values \n",
    "\n",
    "df.contactDay.value_counts()"
   ]
  },
  {
   "cell_type": "code",
   "execution_count": 1,
   "metadata": {},
   "outputs": [
    {
     "ename": "NameError",
     "evalue": "name 'plt' is not defined",
     "output_type": "error",
     "traceback": [
      "\u001b[0;31m---------------------------------------------------------------------------\u001b[0m",
      "\u001b[0;31mNameError\u001b[0m                                 Traceback (most recent call last)",
      "\u001b[0;32m<ipython-input-1-81ace36529f3>\u001b[0m in \u001b[0;36m<module>\u001b[0;34m()\u001b[0m\n\u001b[0;32m----> 1\u001b[0;31m \u001b[0mplt\u001b[0m\u001b[0;34m.\u001b[0m\u001b[0mbar\u001b[0m\u001b[0;34m(\u001b[0m\u001b[0mdf\u001b[0m\u001b[0;34m[\u001b[0m\u001b[0;34m'age'\u001b[0m\u001b[0;34m]\u001b[0m\u001b[0;34m)\u001b[0m\u001b[0;34m\u001b[0m\u001b[0m\n\u001b[0m",
      "\u001b[0;31mNameError\u001b[0m: name 'plt' is not defined"
     ]
    }
   ],
   "source": [
    "plt.bar()"
   ]
  },
  {
   "cell_type": "markdown",
   "metadata": {},
   "source": [
    "- The variable contactDay doesn't have any missing nor illogical level."
   ]
  },
  {
   "cell_type": "markdown",
   "metadata": {},
   "source": [
    "### 12. contactDuration"
   ]
  },
  {
   "cell_type": "code",
<<<<<<< HEAD
   "execution_count": 37,
=======
   "execution_count": 59,
>>>>>>> origin/master
   "metadata": {},
   "outputs": [
    {
     "data": {
      "text/plain": [
       "count    41188.000000\n",
       "mean       258.285010\n",
       "std        259.279249\n",
       "min          0.000000\n",
       "25%        102.000000\n",
       "50%        180.000000\n",
       "75%        319.000000\n",
       "max       4918.000000\n",
       "Name: contactDuration, dtype: float64"
      ]
     },
<<<<<<< HEAD
     "execution_count": 37,
=======
     "execution_count": 59,
>>>>>>> origin/master
     "metadata": {},
     "output_type": "execute_result"
    }
   ],
   "source": [
    "# Check the distribution of values \n",
    "\n",
    "df.contactDuration.describe()"
   ]
  },
  {
   "cell_type": "code",
<<<<<<< HEAD
   "execution_count": 38,
=======
   "execution_count": 60,
>>>>>>> origin/master
   "metadata": {},
   "outputs": [
    {
     "data": {
      "image/png": "iVBORw0KGgoAAAANSUhEUgAAANkAAAFpCAYAAAARA423AAAABHNCSVQICAgIfAhkiAAAAAlwSFlz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\n",
      "text/plain": [
<<<<<<< HEAD
       "<matplotlib.figure.Figure at 0x10d3a6240>"
=======
       "<matplotlib.figure.Figure at 0x1164f6fd0>"
>>>>>>> origin/master
      ]
     },
     "metadata": {},
     "output_type": "display_data"
    }
   ],
   "source": [
    "# Plot the distribution of values \n",
    "\n",
    "fig = plt.figure(1, figsize=(3, 6))\n",
    "df.boxplot(column=\"contactDuration\")\n",
    "plt.show()"
   ]
  },
  {
   "cell_type": "code",
   "execution_count": 73,
   "metadata": {},
   "outputs": [
    {
     "name": "stdout",
     "output_type": "stream",
     "text": [
      "      duration  count\n",
      "898          0      4\n",
      "1048         1      3\n",
      "1246         2      1\n",
      "965          3      3\n",
      "595          4     12\n",
      "386          5     30\n",
      "355          6     37\n",
      "289          7     54\n",
      "228          8     69\n",
      "199          9     77\n",
      "216         10     72\n",
      "186         11     81\n",
      "242         12     65\n",
      "197         13     77\n",
      "225         14     70\n",
      "232         15     68\n",
      "189         16     80\n",
      "200         17     76\n",
      "181         18     84\n",
      "260         19     61\n",
      "257         20     61\n",
      "210         21     73\n",
      "204         22     76\n",
      "243         23     65\n",
      "246         24     64\n",
      "241         25     65\n",
      "261         26     61\n",
      "245         27     65\n",
      "304         28     49\n",
      "234         29     67\n",
      "Numer of instances with less than 30-second call is 1670\n"
     ]
    }
   ],
   "source": [
    "# Check how many instances have less than 30 in the contactDuration\n",
    "\n",
    "duration = df.contactDuration.value_counts().to_frame().reset_index()\n",
    "duration.columns = ['duration','count']\n",
    "duration30 = duration.sort_values(by='duration', axis=0, ascending=True).head(30)\n",
    "print(duration30)\n",
    "print('Numer of instances with less than 30-second call is ' + str(duration30['count'].sum()))"
   ]
  },
  {
   "cell_type": "markdown",
   "metadata": {},
   "source": [
    "### 13. numberOfContact "
   ]
  },
  {
   "cell_type": "code",
<<<<<<< HEAD
   "execution_count": 39,
=======
   "execution_count": 65,
>>>>>>> origin/master
   "metadata": {},
   "outputs": [
    {
     "data": {
      "text/plain": [
       "count    41188.000000\n",
       "mean         2.567593\n",
       "std          2.770014\n",
       "min          1.000000\n",
       "25%          1.000000\n",
       "50%          2.000000\n",
       "75%          3.000000\n",
       "max         56.000000\n",
       "Name: numberOfContact, dtype: float64"
      ]
     },
<<<<<<< HEAD
     "execution_count": 39,
=======
     "execution_count": 65,
>>>>>>> origin/master
     "metadata": {},
     "output_type": "execute_result"
    }
   ],
   "source": [
    "# Check the distribution of values \n",
    "\n",
    "df.numberOfContact.describe()"
   ]
  },
  {
   "cell_type": "code",
<<<<<<< HEAD
   "execution_count": 40,
=======
   "execution_count": 66,
>>>>>>> origin/master
   "metadata": {},
   "outputs": [
    {
     "data": {
      "text/plain": [
       "1     17642\n",
       "2     10570\n",
       "3      5341\n",
       "4      2651\n",
       "5      1599\n",
       "6       979\n",
       "7       629\n",
       "8       400\n",
       "9       283\n",
       "10      225\n",
       "Name: numberOfContact, dtype: int64"
      ]
     },
<<<<<<< HEAD
     "execution_count": 40,
=======
     "execution_count": 66,
>>>>>>> origin/master
     "metadata": {},
     "output_type": "execute_result"
    }
   ],
   "source": [
    "# Check the distribution of values \n",
    "\n",
    "df.numberOfContact.value_counts().head(10)"
   ]
  },
  {
   "cell_type": "code",
<<<<<<< HEAD
   "execution_count": 41,
=======
   "execution_count": 67,
>>>>>>> origin/master
   "metadata": {},
   "outputs": [
    {
     "data": {
      "image/png": "iVBORw0KGgoAAAANSUhEUgAAAM0AAAFpCAYAAAA/RqwlAAAABHNCSVQICAgIfAhkiAAAAAlwSFlz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\nLj2CFEMAAAAASUVORK5CYII=\n",
      "text/plain": [
<<<<<<< HEAD
       "<matplotlib.figure.Figure at 0x1189c24a8>"
=======
       "<matplotlib.figure.Figure at 0x11833eef0>"
>>>>>>> origin/master
      ]
     },
     "metadata": {},
     "output_type": "display_data"
    }
   ],
   "source": [
    "# Plot the distribution of values \n",
    "\n",
    "fig = plt.figure(1, figsize=(3, 6))\n",
    "df.boxplot(column=\"numberOfContact\")\n",
    "plt.show()"
   ]
  },
  {
   "cell_type": "markdown",
   "metadata": {},
   "source": [
    "### 14. pastCam_exposed"
   ]
  },
  {
   "cell_type": "markdown",
   "metadata": {},
   "source": [
    "- As there are three variables about past campaign but none of them distinguishs whether this consumer was exposed to past campaign or not, we decided to create a new binary variable for that purpose\n",
    "- Then, the instances without past campaign experience would have null values in the columns related to past campaign"
   ]
  },
  {
   "cell_type": "code",
<<<<<<< HEAD
   "execution_count": 42,
=======
   "execution_count": 74,
>>>>>>> origin/master
   "metadata": {},
   "outputs": [
    {
     "data": {
      "text/plain": [
       "nonexistent    35563\n",
       "failure         4252\n",
       "success         1373\n",
       "Name: pastCam_result, dtype: int64"
      ]
     },
<<<<<<< HEAD
     "execution_count": 42,
=======
     "execution_count": 74,
>>>>>>> origin/master
     "metadata": {},
     "output_type": "execute_result"
    }
   ],
   "source": [
    "# Check the distribution of values \n",
    "\n",
    "df.pastCam_result.value_counts()"
   ]
  },
  {
   "cell_type": "markdown",
   "metadata": {},
   "source": [
    "- There are 35563 instances(consumers) who don't have experience in past campagin. Therefore, only 5,625 consumers have such experience which are 13.7% of the total instances."
   ]
  },
  {
   "cell_type": "code",
<<<<<<< HEAD
   "execution_count": 43,
=======
   "execution_count": 75,
   "metadata": {
    "collapsed": true
   },
   "outputs": [],
   "source": [
    "# Create a new variable based on the values in the pastCam_result\n",
    "\n",
    "df['pastCam_exposed'] = 1\n",
    "df.loc[df['pastCam_result']=='nonexistent','pastCam_exposed'] = 0"
   ]
  },
  {
   "cell_type": "code",
   "execution_count": 76,
>>>>>>> origin/master
   "metadata": {},
   "outputs": [
    {
     "data": {
      "text/plain": [
       "0    35563\n",
       "1     5625\n",
       "Name: pastCam_exposed, dtype: int64"
      ]
     },
<<<<<<< HEAD
     "execution_count": 43,
=======
     "execution_count": 76,
>>>>>>> origin/master
     "metadata": {},
     "output_type": "execute_result"
    }
   ],
   "source": [
    "# Check the distribution of values \n",
    "\n",
    "df.pastCam_exposed.value_counts()"
   ]
  },
  {
   "cell_type": "code",
   "execution_count": 90,
   "metadata": {},
   "outputs": [
    {
     "data": {
      "text/plain": [
       "2774"
      ]
     },
     "execution_count": 90,
     "metadata": {},
     "output_type": "execute_result"
    }
   ],
   "source": [
    "# Check the counts of those who were contacted for both previous campaign and this campaign before\n",
    "\n",
    "len(df[(df.pastCam_exposed==1) & (df.numberOfContact > 1)])"
   ]
  },
  {
   "cell_type": "markdown",
   "metadata": {},
   "source": [
    "### 15. pastCam_numberOfContact"
   ]
  },
  {
   "cell_type": "code",
<<<<<<< HEAD
   "execution_count": 44,
=======
   "execution_count": 77,
   "metadata": {
    "collapsed": true
   },
   "outputs": [],
   "source": [
    "# Replace values to null for the instances without past campaign experience\n",
    "\n",
    "df.loc[df['pastCam_exposed']==0,'pastCam_numberOfContact'] = None"
   ]
  },
  {
   "cell_type": "code",
   "execution_count": 78,
>>>>>>> origin/master
   "metadata": {},
   "outputs": [
    {
     "data": {
      "text/plain": [
       "count    5625.000000\n",
       "mean        1.266489\n",
       "std         0.639158\n",
       "min         1.000000\n",
       "25%         1.000000\n",
       "50%         1.000000\n",
       "75%         1.000000\n",
       "max         7.000000\n",
       "Name: pastCam_numberOfContact, dtype: float64"
      ]
     },
<<<<<<< HEAD
     "execution_count": 44,
=======
     "execution_count": 78,
>>>>>>> origin/master
     "metadata": {},
     "output_type": "execute_result"
    }
   ],
   "source": [
    "# Check the distribution of values \n",
    "\n",
    "df.pastCam_numberOfContact.describe()"
   ]
  },
  {
   "cell_type": "code",
<<<<<<< HEAD
   "execution_count": 45,
=======
   "execution_count": 79,
>>>>>>> origin/master
   "metadata": {},
   "outputs": [
    {
     "data": {
      "text/plain": [
       "1.0    4561\n",
       "2.0     754\n",
       "3.0     216\n",
       "4.0      70\n",
       "5.0      18\n",
       "6.0       5\n",
       "7.0       1\n",
       "Name: pastCam_numberOfContact, dtype: int64"
      ]
     },
<<<<<<< HEAD
     "execution_count": 45,
=======
     "execution_count": 79,
>>>>>>> origin/master
     "metadata": {},
     "output_type": "execute_result"
    }
   ],
   "source": [
    "# Check the distribution of values \n",
    "\n",
    "df.pastCam_numberOfContact.value_counts()"
   ]
  },
  {
   "cell_type": "markdown",
   "metadata": {},
   "source": [
    "### 16. pastCam_result"
   ]
  },
  {
   "cell_type": "code",
<<<<<<< HEAD
   "execution_count": 46,
=======
   "execution_count": 80,
   "metadata": {
    "collapsed": true
   },
   "outputs": [],
   "source": [
    "# Replace values to null for the instances without past campaign experience\n",
    "\n",
    "df.loc[df['pastCam_exposed']==0,'pastCam_result'] = None"
   ]
  },
  {
   "cell_type": "code",
   "execution_count": 81,
>>>>>>> origin/master
   "metadata": {},
   "outputs": [
    {
     "data": {
      "text/plain": [
       "failure    4252\n",
       "success    1373\n",
       "Name: pastCam_result, dtype: int64"
      ]
     },
<<<<<<< HEAD
     "execution_count": 46,
=======
     "execution_count": 81,
>>>>>>> origin/master
     "metadata": {},
     "output_type": "execute_result"
    }
   ],
   "source": [
    "# Check the distribution of values \n",
    "\n",
    "df.pastCam_result.value_counts()"
   ]
  },
  {
   "cell_type": "markdown",
   "metadata": {},
   "source": [
    "- The variable pastCam_result doesn't have any missing nor illogical values"
   ]
  },
  {
   "cell_type": "markdown",
   "metadata": {},
   "source": [
    "### 17. lastContact_daysSince"
   ]
  },
  {
   "cell_type": "code",
   "execution_count": 82,
   "metadata": {},
   "outputs": [
    {
     "data": {
      "text/plain": [
       "count    41188.000000\n",
       "mean       962.475454\n",
       "std        186.910907\n",
       "min          0.000000\n",
       "25%        999.000000\n",
       "50%        999.000000\n",
       "75%        999.000000\n",
       "max        999.000000\n",
       "Name: lastContact_daysSince, dtype: float64"
      ]
     },
     "execution_count": 82,
     "metadata": {},
     "output_type": "execute_result"
    }
   ],
   "source": [
    "# Check the distribution of values \n",
    "\n",
    "df.lastContact_daysSince.describe()"
   ]
  },
  {
   "cell_type": "code",
   "execution_count": 85,
   "metadata": {},
   "outputs": [
    {
     "data": {
      "image/png": "iVBORw0KGgoAAAANSUhEUgAAANkAAAFpCAYAAAARA423AAAABHNCSVQICAgIfAhkiAAAAAlwSFlz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\n",
      "text/plain": [
       "<matplotlib.figure.Figure at 0x116f28b38>"
      ]
     },
     "metadata": {},
     "output_type": "display_data"
    }
   ],
   "source": [
    "# Plot the distribution of values \n",
    "\n",
    "fig = plt.figure(1, figsize=(3, 6))\n",
    "df.boxplot(column=\"lastContact_daysSince\")\n",
    "plt.show()"
   ]
  },
  {
   "cell_type": "code",
   "execution_count": 86,
   "metadata": {},
   "outputs": [
    {
     "data": {
      "text/html": [
       "<div>\n",
       "<style>\n",
       "    .dataframe thead tr:only-child th {\n",
       "        text-align: right;\n",
       "    }\n",
       "\n",
       "    .dataframe thead th {\n",
       "        text-align: left;\n",
       "    }\n",
       "\n",
       "    .dataframe tbody tr th {\n",
       "        vertical-align: top;\n",
       "    }\n",
       "</style>\n",
       "<table border=\"1\" class=\"dataframe\">\n",
       "  <thead>\n",
       "    <tr style=\"text-align: right;\">\n",
       "      <th></th>\n",
       "      <th>day</th>\n",
       "      <th>count</th>\n",
       "    </tr>\n",
       "  </thead>\n",
       "  <tbody>\n",
       "    <tr>\n",
       "      <th>0</th>\n",
       "      <td>999</td>\n",
       "      <td>39673</td>\n",
       "    </tr>\n",
       "    <tr>\n",
       "      <th>1</th>\n",
       "      <td>3</td>\n",
       "      <td>439</td>\n",
       "    </tr>\n",
       "    <tr>\n",
       "      <th>2</th>\n",
       "      <td>6</td>\n",
       "      <td>412</td>\n",
       "    </tr>\n",
       "  </tbody>\n",
       "</table>\n",
       "</div>"
      ],
      "text/plain": [
       "   day  count\n",
       "0  999  39673\n",
       "1    3    439\n",
       "2    6    412"
      ]
     },
     "execution_count": 86,
     "metadata": {},
     "output_type": "execute_result"
    }
   ],
   "source": [
    "# Check the distribution of values \n",
    "\n",
    "day = df.lastContact_daysSince.value_counts().to_frame().reset_index()\n",
    "day.columns = ['day','count']\n",
    "day.sort_values(by='count', axis=0, ascending=False).head(3)"
   ]
  },
  {
   "cell_type": "markdown",
   "metadata": {},
   "source": [
    "- The value '999' in this variable is for those who are contacted for the first time and there are 39673 instances which are such case. It suggests that only 1,515 have contact history with this bank and it is not consistent with other two variables, numberOfContact and pastCam_result.\n",
    "- From numberOfContact, we saw that there are 17642 customers who were contacted for the first time for this campaign so the rest of 23,546 were contacted more than once before the last contact.\n",
    "- Also, there were 5,625 instances which were either sucess or fail for pastCam_result. \n",
    "- Therefore, we decided to drop this variable"
   ]
  },
  {
   "cell_type": "code",
   "execution_count": 87,
   "metadata": {
    "collapsed": true
   },
   "outputs": [],
   "source": [
    "df = df.drop('lastContact_daysSince',axis=1)"
   ]
  },
  {
   "cell_type": "markdown",
   "metadata": {},
   "source": [
    "### 18. idx_employment"
   ]
  },
  {
   "cell_type": "code",
   "execution_count": 47,
   "metadata": {},
   "outputs": [
    {
     "data": {
      "text/plain": [
       "count    41188.000000\n",
       "mean         0.081886\n",
       "std          1.570960\n",
       "min         -3.400000\n",
       "25%         -1.800000\n",
       "50%          1.100000\n",
       "75%          1.400000\n",
       "max          1.400000\n",
       "Name: idx_employment, dtype: float64"
      ]
     },
     "execution_count": 47,
     "metadata": {},
     "output_type": "execute_result"
    }
   ],
   "source": [
    "# Check the distribution of values \n",
    "\n",
    "df.idx_employment.describe()"
   ]
  },
  {
   "cell_type": "markdown",
   "metadata": {},
   "source": [
    "- The variable idx_employment doesn't have any missing nor illogical values ranging from 0.08 to 1.4"
   ]
  },
  {
   "cell_type": "markdown",
   "metadata": {},
   "source": [
    "### 19. idx_price"
   ]
  },
  {
   "cell_type": "code",
   "execution_count": 48,
   "metadata": {},
   "outputs": [
    {
     "data": {
      "text/plain": [
       "count    41188.000000\n",
       "mean        93.575664\n",
       "std          0.578840\n",
       "min         92.201000\n",
       "25%         93.075000\n",
       "50%         93.749000\n",
       "75%         93.994000\n",
       "max         94.767000\n",
       "Name: idx_price, dtype: float64"
      ]
     },
     "execution_count": 48,
     "metadata": {},
     "output_type": "execute_result"
    }
   ],
   "source": [
    "# Check the distribution of values \n",
    "\n",
    "df.idx_price.describe()"
   ]
  },
  {
   "cell_type": "markdown",
   "metadata": {},
   "source": [
    "- The variable idx_confidence doesn't have any missing nor illogical values ranging from 93.58 to 94.77"
   ]
  },
  {
   "cell_type": "markdown",
   "metadata": {},
   "source": [
    "### 20. idx_confidence"
   ]
  },
  {
   "cell_type": "code",
   "execution_count": 49,
   "metadata": {},
   "outputs": [
    {
     "data": {
      "text/plain": [
       "count    41188.000000\n",
       "mean       -40.502600\n",
       "std          4.628198\n",
       "min        -50.800000\n",
       "25%        -42.700000\n",
       "50%        -41.800000\n",
       "75%        -36.400000\n",
       "max        -26.900000\n",
       "Name: idx_confidence, dtype: float64"
      ]
     },
     "execution_count": 49,
     "metadata": {},
     "output_type": "execute_result"
    }
   ],
   "source": [
    "# Check the distribution of values \n",
    "\n",
    "df.idx_confidence.describe()"
   ]
  },
  {
   "cell_type": "markdown",
   "metadata": {},
   "source": [
    "- The variable idx_confidence doesn't have any missing nor illogical values ranging from -50.8 to -26.9"
   ]
  },
  {
   "cell_type": "markdown",
   "metadata": {},
   "source": [
    "### 21. idx_euribor"
   ]
  },
  {
   "cell_type": "code",
   "execution_count": 50,
   "metadata": {},
   "outputs": [
    {
     "data": {
      "text/plain": [
       "count    41188.000000\n",
       "mean         3.621291\n",
       "std          1.734447\n",
       "min          0.634000\n",
       "25%          1.344000\n",
       "50%          4.857000\n",
       "75%          4.961000\n",
       "max          5.045000\n",
       "Name: idx_euribor, dtype: float64"
      ]
     },
     "execution_count": 50,
     "metadata": {},
     "output_type": "execute_result"
    }
   ],
   "source": [
    "# Check the distribution of values \n",
    "\n",
    "df.idx_euribor.describe()"
   ]
  },
  {
   "cell_type": "markdown",
   "metadata": {},
   "source": [
    "- The variable idx_euribor doesn't have any missing nor illogical values ranging from 0.63 to 5.04"
   ]
  },
  {
   "cell_type": "markdown",
   "metadata": {},
   "source": [
    "### 22. idx_employeesNum"
   ]
  },
  {
   "cell_type": "code",
   "execution_count": 51,
   "metadata": {},
   "outputs": [
    {
     "data": {
      "text/plain": [
       "count    41188.000000\n",
       "mean      5167.035911\n",
       "std         72.251528\n",
       "min       4963.600000\n",
       "25%       5099.100000\n",
       "50%       5191.000000\n",
       "75%       5228.100000\n",
       "max       5228.100000\n",
       "Name: idx_employeesNum, dtype: float64"
      ]
     },
     "execution_count": 51,
     "metadata": {},
     "output_type": "execute_result"
    }
   ],
   "source": [
    "# Check the distribution of values \n",
    "\n",
    "df.idx_employeesNum.describe()"
   ]
  },
  {
   "cell_type": "markdown",
   "metadata": {},
   "source": [
    "- The variable idx_employeesNum doesn't have any missing nor illogical values ranging from 4963.6 to 5228"
   ]
  },
  {
   "cell_type": "markdown",
   "metadata": {},
   "source": [
    "## Export and import wrangled data"
   ]
  },
  {
   "cell_type": "code",
   "execution_count": 91,
   "metadata": {},
   "outputs": [
    {
     "data": {
      "text/plain": [
       "(41188, 21)"
      ]
     },
     "execution_count": 91,
     "metadata": {},
     "output_type": "execute_result"
    }
   ],
   "source": [
    "df.shape"
   ]
  },
  {
   "cell_type": "code",
   "execution_count": 92,
   "metadata": {},
   "outputs": [
    {
     "data": {
      "text/plain": [
       "age                          int64\n",
       "job                         object\n",
       "marital                     object\n",
       "education                   object\n",
       "default                     object\n",
       "housingLoan                 object\n",
       "personalLoan                object\n",
       "contactMethod               object\n",
       "contactMonth                object\n",
       "contactDay                  object\n",
       "contactDuration              int64\n",
       "numberOfContact              int64\n",
       "pastCam_numberOfContact    float64\n",
       "pastCam_result              object\n",
       "idx_employment             float64\n",
       "idx_price                  float64\n",
       "idx_confidence             float64\n",
       "idx_euribor                float64\n",
       "idx_employeesNum           float64\n",
       "subscribe                    int64\n",
       "pastCam_exposed              int64\n",
       "dtype: object"
      ]
     },
     "execution_count": 92,
     "metadata": {},
     "output_type": "execute_result"
    }
   ],
   "source": [
    "df.dtypes"
   ]
  },
  {
   "cell_type": "code",
   "execution_count": 88,
   "metadata": {
    "collapsed": true
   },
   "outputs": [],
   "source": [
    "# Save the dataframe into a pickle file\n",
    "\n",
    "pickle.dump( df, open( \"df_new.pickle\", \"wb\" ) )"
   ]
  },
  {
   "cell_type": "code",
   "execution_count": null,
   "metadata": {
    "collapsed": true
   },
   "outputs": [],
   "source": [
    "# Load the dataframe back from the pickle file.\n",
    "\n",
    "df_new = pickle.load( open( \"df_new.pickle\", \"rb\" ) )"
   ]
  }
 ],
 "metadata": {
  "kernelspec": {
   "display_name": "Python 3",
   "language": "python",
   "name": "python3"
  },
  "language_info": {
   "codemirror_mode": {
    "name": "ipython",
    "version": 3
   },
   "file_extension": ".py",
   "mimetype": "text/x-python",
   "name": "python",
   "nbconvert_exporter": "python",
   "pygments_lexer": "ipython3",
   "version": "3.6.1"
  }
 },
 "nbformat": 4,
 "nbformat_minor": 2
}
